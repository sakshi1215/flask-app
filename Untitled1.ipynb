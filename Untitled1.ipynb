{
 "cells": [
  {
   "cell_type": "code",
   "execution_count": 2,
   "metadata": {},
   "outputs": [],
   "source": [
    "from IPython.display import Image\n",
    "%matplotlib inline\n",
    "import matplotlib\n",
    "import matplotlib.pyplot as plt\n",
    "import io, base64, os, json, re\n",
    "import pandas as pd\n",
    "import numpy as np\n",
    "\n"
   ]
  },
  {
   "cell_type": "code",
   "execution_count": 3,
   "metadata": {},
   "outputs": [
    {
     "data": {
      "text/html": [
       "<div>\n",
       "<style scoped>\n",
       "    .dataframe tbody tr th:only-of-type {\n",
       "        vertical-align: middle;\n",
       "    }\n",
       "\n",
       "    .dataframe tbody tr th {\n",
       "        vertical-align: top;\n",
       "    }\n",
       "\n",
       "    .dataframe thead th {\n",
       "        text-align: right;\n",
       "    }\n",
       "</style>\n",
       "<table border=\"1\" class=\"dataframe\">\n",
       "  <thead>\n",
       "    <tr style=\"text-align: right;\">\n",
       "      <th></th>\n",
       "      <th>Age</th>\n",
       "      <th>Life Expectancy</th>\n",
       "    </tr>\n",
       "  </thead>\n",
       "  <tbody>\n",
       "    <tr>\n",
       "      <th>0</th>\n",
       "      <td>0</td>\n",
       "      <td>90</td>\n",
       "    </tr>\n",
       "    <tr>\n",
       "      <th>1</th>\n",
       "      <td>60</td>\n",
       "      <td>30</td>\n",
       "    </tr>\n",
       "  </tbody>\n",
       "</table>\n",
       "</div>"
      ],
      "text/plain": [
       "   Age  Life Expectancy\n",
       "0    0               90\n",
       "1   60               30"
      ]
     },
     "execution_count": 3,
     "metadata": {},
     "output_type": "execute_result"
    }
   ],
   "source": [
    "import pandas as pd\n",
    "import matplotlib.pyplot as plt\n",
    "# create fictitious data set \n",
    "simple_life_dataset = pd.DataFrame({'Age':[0, 60], 'Life Expectancy':[90, 30]})\n",
    "simple_life_dataset.head()"
   ]
  },
  {
   "cell_type": "code",
   "execution_count": 4,
   "metadata": {},
   "outputs": [
    {
     "name": "stdout",
     "output_type": "stream",
     "text": [
      "('intercept: ', 90.0)\n",
      "('slope: ', -1.0)\n"
     ]
    }
   ],
   "source": [
    "import numpy as np\n",
    "from scipy import stats\n",
    "slope, intercept, r_value, p_value, std_err = stats.linregress(simple_life_dataset['Age'],simple_life_dataset['Life Expectancy'])\n",
    "print('intercept: ', intercept)\n",
    "print('slope: ', slope)\n"
   ]
  },
  {
   "cell_type": "code",
   "execution_count": 5,
   "metadata": {},
   "outputs": [
    {
     "data": {
      "text/plain": [
       "70.0"
      ]
     },
     "execution_count": 5,
     "metadata": {},
     "output_type": "execute_result"
    }
   ],
   "source": [
    "np.ceil(slope * 20 + intercept)\n"
   ]
  },
  {
   "cell_type": "code",
   "execution_count": 6,
   "metadata": {},
   "outputs": [
    {
     "data": {
      "image/png": "[encoded data removed]",
      "text/plain": [
       "<Figure size 360x360 with 1 Axes>"
      ]
     },
     "metadata": {
      "needs_background": "light"
     },
     "output_type": "display_data"
    }
   ],
   "source": [
    "fig, axes = plt.subplots(figsize=(5,5))\n",
    "x = [0,20,60]\n",
    "y = [90, 70, 30]\n",
    "axes.plot(x,y, color='blue', linestyle='--', marker='o')\n",
    "fig.suptitle('Life Expectancy')\n",
    "axes.set_xlabel('age')\n",
    "axes.set_xlim([-5,100])\n",
    "axes.set_ylabel('life_expectancy')\n",
    "axes.set_ylim([0,100])\n",
    "plt.grid()\n",
    "plt.show()\n"
   ]
  },
  {
   "cell_type": "code",
   "execution_count": 7,
   "metadata": {},
   "outputs": [
    {
     "data": {
      "text/html": [
       "<div>\n",
       "<style scoped>\n",
       "    .dataframe tbody tr th:only-of-type {\n",
       "        vertical-align: middle;\n",
       "    }\n",
       "\n",
       "    .dataframe tbody tr th {\n",
       "        vertical-align: top;\n",
       "    }\n",
       "\n",
       "    .dataframe thead th {\n",
       "        text-align: right;\n",
       "    }\n",
       "</style>\n",
       "<table border=\"1\" class=\"dataframe\">\n",
       "  <thead>\n",
       "    <tr style=\"text-align: right;\">\n",
       "      <th></th>\n",
       "      <th>GHO (DISPLAY)</th>\n",
       "      <th>YEAR (CODE)</th>\n",
       "      <th>COUNTRY (DISPLAY)</th>\n",
       "      <th>SEX (DISPLAY)</th>\n",
       "      <th>Numeric</th>\n",
       "    </tr>\n",
       "  </thead>\n",
       "  <tbody>\n",
       "    <tr>\n",
       "      <th>1968</th>\n",
       "      <td>Life expectancy at birth (years)</td>\n",
       "      <td>2009</td>\n",
       "      <td>France</td>\n",
       "      <td>Male</td>\n",
       "      <td>78.04598</td>\n",
       "    </tr>\n",
       "    <tr>\n",
       "      <th>1969</th>\n",
       "      <td>Life expectancy at birth (years)</td>\n",
       "      <td>2010</td>\n",
       "      <td>France</td>\n",
       "      <td>Male</td>\n",
       "      <td>78.20197</td>\n",
       "    </tr>\n",
       "    <tr>\n",
       "      <th>1970</th>\n",
       "      <td>Life expectancy at birth (years)</td>\n",
       "      <td>2011</td>\n",
       "      <td>France</td>\n",
       "      <td>Male</td>\n",
       "      <td>78.63470</td>\n",
       "    </tr>\n",
       "    <tr>\n",
       "      <th>1971</th>\n",
       "      <td>Life expectancy at birth (years)</td>\n",
       "      <td>2012</td>\n",
       "      <td>France</td>\n",
       "      <td>Male</td>\n",
       "      <td>78.83018</td>\n",
       "    </tr>\n",
       "    <tr>\n",
       "      <th>1972</th>\n",
       "      <td>Life expectancy at birth (years)</td>\n",
       "      <td>2008</td>\n",
       "      <td>France</td>\n",
       "      <td>Female</td>\n",
       "      <td>84.25859</td>\n",
       "    </tr>\n",
       "    <tr>\n",
       "      <th>1973</th>\n",
       "      <td>Life expectancy at birth (years)</td>\n",
       "      <td>2009</td>\n",
       "      <td>France</td>\n",
       "      <td>Female</td>\n",
       "      <td>84.36204</td>\n",
       "    </tr>\n",
       "    <tr>\n",
       "      <th>1974</th>\n",
       "      <td>Life expectancy at birth (years)</td>\n",
       "      <td>2010</td>\n",
       "      <td>France</td>\n",
       "      <td>Female</td>\n",
       "      <td>84.51861</td>\n",
       "    </tr>\n",
       "    <tr>\n",
       "      <th>1975</th>\n",
       "      <td>Life expectancy at birth (years)</td>\n",
       "      <td>2011</td>\n",
       "      <td>France</td>\n",
       "      <td>Female</td>\n",
       "      <td>84.82901</td>\n",
       "    </tr>\n",
       "    <tr>\n",
       "      <th>1976</th>\n",
       "      <td>Life expectancy at birth (years)</td>\n",
       "      <td>2006</td>\n",
       "      <td>France</td>\n",
       "      <td>Both sexes</td>\n",
       "      <td>80.77184</td>\n",
       "    </tr>\n",
       "    <tr>\n",
       "      <th>1977</th>\n",
       "      <td>Life expectancy at birth (years)</td>\n",
       "      <td>2007</td>\n",
       "      <td>France</td>\n",
       "      <td>Both sexes</td>\n",
       "      <td>81.01750</td>\n",
       "    </tr>\n",
       "  </tbody>\n",
       "</table>\n",
       "</div>"
      ],
      "text/plain": [
       "                         GHO (DISPLAY)  YEAR (CODE) COUNTRY (DISPLAY)  \\\n",
       "1968  Life expectancy at birth (years)         2009            France   \n",
       "1969  Life expectancy at birth (years)         2010            France   \n",
       "1970  Life expectancy at birth (years)         2011            France   \n",
       "1971  Life expectancy at birth (years)         2012            France   \n",
       "1972  Life expectancy at birth (years)         2008            France   \n",
       "1973  Life expectancy at birth (years)         2009            France   \n",
       "1974  Life expectancy at birth (years)         2010            France   \n",
       "1975  Life expectancy at birth (years)         2011            France   \n",
       "1976  Life expectancy at birth (years)         2006            France   \n",
       "1977  Life expectancy at birth (years)         2007            France   \n",
       "\n",
       "     SEX (DISPLAY)   Numeric  \n",
       "1968          Male  78.04598  \n",
       "1969          Male  78.20197  \n",
       "1970          Male  78.63470  \n",
       "1971          Male  78.83018  \n",
       "1972        Female  84.25859  \n",
       "1973        Female  84.36204  \n",
       "1974        Female  84.51861  \n",
       "1975        Female  84.82901  \n",
       "1976    Both sexes  80.77184  \n",
       "1977    Both sexes  81.01750  "
      ]
     },
     "execution_count": 7,
     "metadata": {},
     "output_type": "execute_result"
    }
   ],
   "source": [
    "# http://apps.who.int/gho/data/node.main.688\n",
    "who_list = pd.read_csv('http://apps.who.int/gho/athena/data/GHO/WHOSIS_000001,WHOSIS_000015?filter=COUNTRY:*&x-sideaxis=COUNTRY;YEAR&x-topaxis=GHO;SEX&profile=verbose&format=csv')\n",
    "# save a local copy of the data set for our Flask prototype later on\n",
    "who_list.to_csv('WHOSIS_000001,WHOSIS_000015.csv')\n",
    "\n",
    "# Keep only useful features fix case display of country text\n",
    "who_list = who_list[['GHO (DISPLAY)', 'YEAR (CODE)' , 'COUNTRY (DISPLAY)', 'SEX (DISPLAY)', 'Numeric']]\n",
    "who_list['COUNTRY (DISPLAY)'] = [ctry.title() for ctry in who_list['COUNTRY (DISPLAY)'].values]\n",
    "# print a few rows\n",
    "who_list[who_list['COUNTRY (DISPLAY)']=='France'].head(10)"
   ]
  },
  {
   "cell_type": "code",
   "execution_count": 8,
   "metadata": {},
   "outputs": [
    {
     "name": "stdout",
     "output_type": "stream",
     "text": [
      "sub_set_birth:\n",
      "                         GHO (DISPLAY)  YEAR (CODE)         COUNTRY (DISPLAY)  \\\n",
      "8760  Life expectancy at birth (years)         2016  United States Of America   \n",
      "7943  Life expectancy at birth (years)         2015  United States Of America   \n",
      "7942  Life expectancy at birth (years)         2014  United States Of America   \n",
      "7941  Life expectancy at birth (years)         2013  United States Of America   \n",
      "7940  Life expectancy at birth (years)         2012  United States Of America   \n",
      "\n",
      "     SEX (DISPLAY)   Numeric  \n",
      "8760          Male  76.01672  \n",
      "7943          Male  76.22922  \n",
      "7942          Male  76.63770  \n",
      "7941          Male  76.61551  \n",
      "7940          Male  76.62045  \n",
      "sub_set_60:\n",
      "                           GHO (DISPLAY)  YEAR (CODE)  \\\n",
      "18425  Life expectancy at age 60 (years)         2016   \n",
      "18424  Life expectancy at age 60 (years)         2015   \n",
      "17420  Life expectancy at age 60 (years)         2014   \n",
      "18622  Life expectancy at age 60 (years)         2013   \n",
      "17419  Life expectancy at age 60 (years)         2012   \n",
      "\n",
      "              COUNTRY (DISPLAY) SEX (DISPLAY)   Numeric  \n",
      "18425  United States Of America          Male  21.75191  \n",
      "18424  United States Of America          Male  21.75415  \n",
      "17420  United States Of America          Male  21.91776  \n",
      "18622  United States Of America          Male  21.86298  \n",
      "17419  United States Of America          Male  21.87331  \n"
     ]
    }
   ],
   "source": [
    "country = 'United States Of America'\n",
    "sex = 'Male'\n",
    "# pull latest entries for birth and 60 years for a country and gender\n",
    "sub_set = who_list[who_list['COUNTRY (DISPLAY)'].str.startswith(country, na=False)]\n",
    "sub_set = sub_set[sub_set['SEX (DISPLAY)'] == sex]\n",
    "# sort by year in descending order to work with the latest read\n",
    "sub_set = sub_set.sort_values('YEAR (CODE)', ascending=False)\n",
    "sub_set_birth = sub_set[sub_set['GHO (DISPLAY)'] == 'Life expectancy at birth (years)']\n",
    "sub_set_60 = sub_set[sub_set['GHO (DISPLAY)'] == 'Life expectancy at age 60 (years)']\n",
    "print('sub_set_birth:')\n",
    "print(sub_set_birth.head(5))\n",
    "print('sub_set_60:')\n",
    "print(sub_set_60.head(5))\n"
   ]
  },
  {
   "cell_type": "code",
   "execution_count": 9,
   "metadata": {},
   "outputs": [
    {
     "data": {
      "text/html": [
       "<div>\n",
       "<style scoped>\n",
       "    .dataframe tbody tr th:only-of-type {\n",
       "        vertical-align: middle;\n",
       "    }\n",
       "\n",
       "    .dataframe tbody tr th {\n",
       "        vertical-align: top;\n",
       "    }\n",
       "\n",
       "    .dataframe thead th {\n",
       "        text-align: right;\n",
       "    }\n",
       "</style>\n",
       "<table border=\"1\" class=\"dataframe\">\n",
       "  <thead>\n",
       "    <tr style=\"text-align: right;\">\n",
       "      <th></th>\n",
       "      <th>GHO (DISPLAY)</th>\n",
       "      <th>YEAR (CODE)</th>\n",
       "      <th>COUNTRY (DISPLAY)</th>\n",
       "      <th>SEX (DISPLAY)</th>\n",
       "      <th>Numeric</th>\n",
       "    </tr>\n",
       "  </thead>\n",
       "  <tbody>\n",
       "    <tr>\n",
       "      <th>18425</th>\n",
       "      <td>Life expectancy at age 60 (years)</td>\n",
       "      <td>2016</td>\n",
       "      <td>United States Of America</td>\n",
       "      <td>Male</td>\n",
       "      <td>21.75191</td>\n",
       "    </tr>\n",
       "    <tr>\n",
       "      <th>18424</th>\n",
       "      <td>Life expectancy at age 60 (years)</td>\n",
       "      <td>2015</td>\n",
       "      <td>United States Of America</td>\n",
       "      <td>Male</td>\n",
       "      <td>21.75415</td>\n",
       "    </tr>\n",
       "    <tr>\n",
       "      <th>17420</th>\n",
       "      <td>Life expectancy at age 60 (years)</td>\n",
       "      <td>2014</td>\n",
       "      <td>United States Of America</td>\n",
       "      <td>Male</td>\n",
       "      <td>21.91776</td>\n",
       "    </tr>\n",
       "    <tr>\n",
       "      <th>18622</th>\n",
       "      <td>Life expectancy at age 60 (years)</td>\n",
       "      <td>2013</td>\n",
       "      <td>United States Of America</td>\n",
       "      <td>Male</td>\n",
       "      <td>21.86298</td>\n",
       "    </tr>\n",
       "    <tr>\n",
       "      <th>17419</th>\n",
       "      <td>Life expectancy at age 60 (years)</td>\n",
       "      <td>2012</td>\n",
       "      <td>United States Of America</td>\n",
       "      <td>Male</td>\n",
       "      <td>21.87331</td>\n",
       "    </tr>\n",
       "    <tr>\n",
       "      <th>18621</th>\n",
       "      <td>Life expectancy at age 60 (years)</td>\n",
       "      <td>2011</td>\n",
       "      <td>United States Of America</td>\n",
       "      <td>Male</td>\n",
       "      <td>21.75855</td>\n",
       "    </tr>\n",
       "    <tr>\n",
       "      <th>16008</th>\n",
       "      <td>Life expectancy at age 60 (years)</td>\n",
       "      <td>2010</td>\n",
       "      <td>United States Of America</td>\n",
       "      <td>Male</td>\n",
       "      <td>21.62366</td>\n",
       "    </tr>\n",
       "    <tr>\n",
       "      <th>16007</th>\n",
       "      <td>Life expectancy at age 60 (years)</td>\n",
       "      <td>2009</td>\n",
       "      <td>United States Of America</td>\n",
       "      <td>Male</td>\n",
       "      <td>21.60503</td>\n",
       "    </tr>\n",
       "    <tr>\n",
       "      <th>16006</th>\n",
       "      <td>Life expectancy at age 60 (years)</td>\n",
       "      <td>2008</td>\n",
       "      <td>United States Of America</td>\n",
       "      <td>Male</td>\n",
       "      <td>21.33021</td>\n",
       "    </tr>\n",
       "    <tr>\n",
       "      <th>16005</th>\n",
       "      <td>Life expectancy at age 60 (years)</td>\n",
       "      <td>2007</td>\n",
       "      <td>United States Of America</td>\n",
       "      <td>Male</td>\n",
       "      <td>21.30522</td>\n",
       "    </tr>\n",
       "    <tr>\n",
       "      <th>18620</th>\n",
       "      <td>Life expectancy at age 60 (years)</td>\n",
       "      <td>2006</td>\n",
       "      <td>United States Of America</td>\n",
       "      <td>Male</td>\n",
       "      <td>21.08905</td>\n",
       "    </tr>\n",
       "    <tr>\n",
       "      <th>17418</th>\n",
       "      <td>Life expectancy at age 60 (years)</td>\n",
       "      <td>2005</td>\n",
       "      <td>United States Of America</td>\n",
       "      <td>Male</td>\n",
       "      <td>20.71570</td>\n",
       "    </tr>\n",
       "    <tr>\n",
       "      <th>18619</th>\n",
       "      <td>Life expectancy at age 60 (years)</td>\n",
       "      <td>2004</td>\n",
       "      <td>United States Of America</td>\n",
       "      <td>Male</td>\n",
       "      <td>20.72015</td>\n",
       "    </tr>\n",
       "    <tr>\n",
       "      <th>17417</th>\n",
       "      <td>Life expectancy at age 60 (years)</td>\n",
       "      <td>2003</td>\n",
       "      <td>United States Of America</td>\n",
       "      <td>Male</td>\n",
       "      <td>20.39327</td>\n",
       "    </tr>\n",
       "    <tr>\n",
       "      <th>18423</th>\n",
       "      <td>Life expectancy at age 60 (years)</td>\n",
       "      <td>2002</td>\n",
       "      <td>United States Of America</td>\n",
       "      <td>Male</td>\n",
       "      <td>20.22097</td>\n",
       "    </tr>\n",
       "    <tr>\n",
       "      <th>18422</th>\n",
       "      <td>Life expectancy at age 60 (years)</td>\n",
       "      <td>2001</td>\n",
       "      <td>United States Of America</td>\n",
       "      <td>Male</td>\n",
       "      <td>20.09461</td>\n",
       "    </tr>\n",
       "    <tr>\n",
       "      <th>18421</th>\n",
       "      <td>Life expectancy at age 60 (years)</td>\n",
       "      <td>2000</td>\n",
       "      <td>United States Of America</td>\n",
       "      <td>Male</td>\n",
       "      <td>19.84784</td>\n",
       "    </tr>\n",
       "  </tbody>\n",
       "</table>\n",
       "</div>"
      ],
      "text/plain": [
       "                           GHO (DISPLAY)  YEAR (CODE)  \\\n",
       "18425  Life expectancy at age 60 (years)         2016   \n",
       "18424  Life expectancy at age 60 (years)         2015   \n",
       "17420  Life expectancy at age 60 (years)         2014   \n",
       "18622  Life expectancy at age 60 (years)         2013   \n",
       "17419  Life expectancy at age 60 (years)         2012   \n",
       "18621  Life expectancy at age 60 (years)         2011   \n",
       "16008  Life expectancy at age 60 (years)         2010   \n",
       "16007  Life expectancy at age 60 (years)         2009   \n",
       "16006  Life expectancy at age 60 (years)         2008   \n",
       "16005  Life expectancy at age 60 (years)         2007   \n",
       "18620  Life expectancy at age 60 (years)         2006   \n",
       "17418  Life expectancy at age 60 (years)         2005   \n",
       "18619  Life expectancy at age 60 (years)         2004   \n",
       "17417  Life expectancy at age 60 (years)         2003   \n",
       "18423  Life expectancy at age 60 (years)         2002   \n",
       "18422  Life expectancy at age 60 (years)         2001   \n",
       "18421  Life expectancy at age 60 (years)         2000   \n",
       "\n",
       "              COUNTRY (DISPLAY) SEX (DISPLAY)   Numeric  \n",
       "18425  United States Of America          Male  21.75191  \n",
       "18424  United States Of America          Male  21.75415  \n",
       "17420  United States Of America          Male  21.91776  \n",
       "18622  United States Of America          Male  21.86298  \n",
       "17419  United States Of America          Male  21.87331  \n",
       "18621  United States Of America          Male  21.75855  \n",
       "16008  United States Of America          Male  21.62366  \n",
       "16007  United States Of America          Male  21.60503  \n",
       "16006  United States Of America          Male  21.33021  \n",
       "16005  United States Of America          Male  21.30522  \n",
       "18620  United States Of America          Male  21.08905  \n",
       "17418  United States Of America          Male  20.71570  \n",
       "18619  United States Of America          Male  20.72015  \n",
       "17417  United States Of America          Male  20.39327  \n",
       "18423  United States Of America          Male  20.22097  \n",
       "18422  United States Of America          Male  20.09461  \n",
       "18421  United States Of America          Male  19.84784  "
      ]
     },
     "execution_count": 9,
     "metadata": {},
     "output_type": "execute_result"
    }
   ],
   "source": [
    "sub_set_60"
   ]
  },
  {
   "cell_type": "code",
   "execution_count": 10,
   "metadata": {},
   "outputs": [
    {
     "data": {
      "image/png": "[encoded data removed]",
      "text/plain": [
       "<Figure size 360x360 with 1 Axes>"
      ]
     },
     "metadata": {
      "needs_background": "light"
     },
     "output_type": "display_data"
    }
   ],
   "source": [
    "# create data set with both points as shown in first example\n",
    "lf_at_birth = sub_set_birth['Numeric'].values[0]\n",
    "lf_at_60 = sub_set_60['Numeric'].values[0]\n",
    "# let's organize our data and plot\n",
    "age = [0,60]\n",
    "life_expectancy = [lf_at_birth, lf_at_60]\n",
    "fig, axes = plt.subplots(figsize=(5,5))\n",
    "x = age\n",
    "y = life_expectancy\n",
    "axes.plot(x,y, color='blue', linestyle='--', marker='o')\n",
    "fig.suptitle('Life Expectancy')\n",
    "axes.set_xlabel('age')\n",
    "axes.set_xlim([-5,100])\n",
    "axes.set_ylabel('life expectancy')\n",
    "axes.set_ylim([0,100])\n",
    "plt.grid()\n",
    "plt.show()"
   ]
  },
  {
   "cell_type": "code",
   "execution_count": 11,
   "metadata": {},
   "outputs": [
    {
     "name": "stdout",
     "output_type": "stream",
     "text": [
      "('intercept: ', 76.01671999999999)\n",
      "('slope: ', -0.9044134999999998)\n"
     ]
    },
    {
     "data": {
      "text/plain": [
       "32.0"
      ]
     },
     "execution_count": 11,
     "metadata": {},
     "output_type": "execute_result"
    }
   ],
   "source": [
    "# model \n",
    "slope, intercept, r_value, p_value, std_err = stats.linregress(age, life_expectancy)\n",
    "print('intercept: ', intercept)\n",
    "print('slope: ', slope)\n",
    "\n",
    "# predict life expectancy for an 49-year-old male in the USA:\n",
    "np.ceil(slope * 49 + intercept)"
   ]
  },
  {
   "cell_type": "code",
   "execution_count": 12,
   "metadata": {},
   "outputs": [],
   "source": [
    "def get_life_expectancy(age, country, sex):\n",
    "    # pull latest entries for birth and 60 years\n",
    "    sub_set = who_list[who_list['COUNTRY (DISPLAY)'].str.startswith(country, na=False)]\n",
    "    sub_set = sub_set[sub_set['SEX (DISPLAY)'] == sex]\n",
    "    sub_set = sub_set.sort_values('YEAR (CODE)', ascending=False)\n",
    "    sub_set_birth = sub_set[sub_set['GHO (DISPLAY)'] == 'Life expectancy at birth (years)']\n",
    "    sub_set_60 = sub_set[sub_set['GHO (DISPLAY)'] == 'Life expectancy at age 60 (years)']\n",
    "\n",
    "    # not all combinations exsits so check that we have data for both\n",
    "    if len(sub_set_birth['Numeric']) > 0 and len(sub_set_60['Numeric']) > 0:\n",
    "        # create data set with both points as shown in first example\n",
    "        lf_at_birth = sub_set_birth['Numeric'].values[0]\n",
    "        lf_at_60 = sub_set_60['Numeric'].values[0]\n",
    "\n",
    "        # model\n",
    "        slope, intercept, r_value, p_value, std_err = stats.linregress([0,60],[lf_at_birth, lf_at_60])\n",
    "\n",
    "        # predict for the age variable\n",
    "        return(np.ceil(slope * age + intercept))\n",
    "    else:\n",
    "        return None"
   ]
  },
  {
   "cell_type": "code",
   "execution_count": 13,
   "metadata": {},
   "outputs": [
    {
     "data": {
      "text/plain": [
       "['Canada',\n",
       " 'Turkmenistan',\n",
       " 'Lithuania',\n",
       " 'Cambodia',\n",
       " 'Ethiopia',\n",
       " 'Argentina',\n",
       " 'Cameroon',\n",
       " 'Burkina Faso',\n",
       " 'Bahrain',\n",
       " 'Saudi Arabia']"
      ]
     },
     "execution_count": 13,
     "metadata": {},
     "output_type": "execute_result"
    }
   ],
   "source": [
    "list(set(who_list['COUNTRY (DISPLAY)']))[0:10]"
   ]
  },
  {
   "cell_type": "code",
   "execution_count": 14,
   "metadata": {},
   "outputs": [
    {
     "data": {
      "text/plain": [
       "66.0"
      ]
     },
     "execution_count": 14,
     "metadata": {},
     "output_type": "execute_result"
    }
   ],
   "source": [
    "# test the function out using a 22-year-old Japanese female:\n",
    "get_life_expectancy(22, 'Japan', 'Female')\n"
   ]
  },
  {
   "cell_type": "code",
   "execution_count": null,
   "metadata": {},
   "outputs": [],
   "source": []
  }
 ],
 "metadata": {
  "kernelspec": {
   "display_name": "Python 3",
   "language": "python",
   "name": "python3"
  },
  "language_info": {
   "codemirror_mode": {
    "name": "ipython",
    "version": 2
   },
   "file_extension": ".py",
   "mimetype": "text/x-python",
   "name": "python",
   "nbconvert_exporter": "python",
   "pygments_lexer": "ipython2",
   "version": "2.7.17"
  }
 },
 "nbformat": 4,
 "nbformat_minor": 2
}
